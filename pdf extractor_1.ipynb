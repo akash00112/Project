{
 "cells": [
  {
   "cell_type": "markdown",
   "id": "374f3bd3",
   "metadata": {},
   "source": [
    "### REFERANCE LINKS"
   ]
  },
  {
   "cell_type": "markdown",
   "id": "f5ce7926",
   "metadata": {},
   "source": [
    "1. https://pypi.org/project/PyPDF2/\n",
    "2. https://pypi.org/project/PyPDF2/"
   ]
  },
  {
   "cell_type": "markdown",
   "id": "3fa4a908",
   "metadata": {},
   "source": [
    "## Method_1"
   ]
  },
  {
   "cell_type": "markdown",
   "id": "4c2323c1",
   "metadata": {},
   "source": [
    "## 1. Install Dependencies"
   ]
  },
  {
   "cell_type": "code",
   "execution_count": 5,
   "id": "db76b4ea",
   "metadata": {},
   "outputs": [
    {
     "name": "stdout",
     "output_type": "stream",
     "text": [
      "Requirement already satisfied: PyPDF2 in c:\\users\\dell\\anaconda3\\envs\\data_scraping\\lib\\site-packages (2.11.0)\n",
      "Note: you may need to restart the kernel to use updated packages.\n"
     ]
    }
   ],
   "source": [
    "pip install PyPDF2"
   ]
  },
  {
   "cell_type": "code",
   "execution_count": 1,
   "id": "396ec57d",
   "metadata": {},
   "outputs": [
    {
     "name": "stdout",
     "output_type": "stream",
     "text": [
      "Requirement already satisfied: PyPDF2[crypto] in c:\\users\\dell\\anaconda3\\envs\\data_scraping\\lib\\site-packages (2.11.0)\n",
      "Collecting PyCryptodome\n",
      "  Downloading pycryptodome-3.15.0-cp35-abi3-win_amd64.whl (1.9 MB)\n",
      "Installing collected packages: PyCryptodome\n",
      "Successfully installed PyCryptodome-3.15.0\n",
      "Note: you may need to restart the kernel to use updated packages.\n"
     ]
    }
   ],
   "source": [
    "pip install PyPDF2[crypto]"
   ]
  },
  {
   "cell_type": "code",
   "execution_count": 1,
   "id": "e783ff6a",
   "metadata": {},
   "outputs": [],
   "source": [
    "import PyPDF2"
   ]
  },
  {
   "cell_type": "code",
   "execution_count": 2,
   "id": "a74c816a",
   "metadata": {},
   "outputs": [],
   "source": [
    "from PyPDF2 import PdfReader"
   ]
  },
  {
   "cell_type": "markdown",
   "id": "f4c4b6fb",
   "metadata": {},
   "source": [
    "## 2. Reading the file"
   ]
  },
  {
   "cell_type": "code",
   "execution_count": 24,
   "id": "79465a30",
   "metadata": {},
   "outputs": [],
   "source": [
    "reader = PdfReader(\"yantraveda.pdf\")"
   ]
  },
  {
   "cell_type": "code",
   "execution_count": 25,
   "id": "8bb520ad",
   "metadata": {},
   "outputs": [
    {
     "data": {
      "text/plain": [
       "<PyPDF2._reader.PdfReader at 0x1a37a8c1e10>"
      ]
     },
     "execution_count": 25,
     "metadata": {},
     "output_type": "execute_result"
    }
   ],
   "source": [
    "reader"
   ]
  },
  {
   "cell_type": "code",
   "execution_count": 26,
   "id": "b27ed5ec",
   "metadata": {},
   "outputs": [],
   "source": [
    "number_of_pages = len(reader.pages)"
   ]
  },
  {
   "cell_type": "code",
   "execution_count": 27,
   "id": "12b155e3",
   "metadata": {},
   "outputs": [
    {
     "data": {
      "text/plain": [
       "1"
      ]
     },
     "execution_count": 27,
     "metadata": {},
     "output_type": "execute_result"
    }
   ],
   "source": [
    "number_of_pages"
   ]
  },
  {
   "cell_type": "code",
   "execution_count": 28,
   "id": "a2b4ea44",
   "metadata": {},
   "outputs": [],
   "source": [
    "page = reader.pages[0]"
   ]
  },
  {
   "cell_type": "code",
   "execution_count": 29,
   "id": "a69e8ada",
   "metadata": {},
   "outputs": [
    {
     "data": {
      "text/plain": [
       "{'/Type': '/Page',\n",
       " '/Resources': {'/ProcSet': ['/PDF', '/Text', '/ImageB', '/ImageC', '/ImageI'],\n",
       "  '/ExtGState': {'/G3': {'/ca': 1, '/BM': '/Normal'},\n",
       "   '/G4': {'/CA': 1,\n",
       "    '/ca': 1,\n",
       "    '/LC': 0,\n",
       "    '/LJ': 0,\n",
       "    '/LW': 1,\n",
       "    '/ML': 4,\n",
       "    '/SA': True,\n",
       "    '/BM': '/Normal'}},\n",
       "  '/XObject': {'/X5': {'/Type': '/XObject',\n",
       "    '/Subtype': '/Image',\n",
       "    '/Width': 2463,\n",
       "    '/Height': 1642,\n",
       "    '/ColorSpace': '/DeviceRGB',\n",
       "    '/BitsPerComponent': 8,\n",
       "    '/Filter': '/DCTDecode',\n",
       "    '/ColorTransform': 0},\n",
       "   '/X6': {'/Type': '/XObject',\n",
       "    '/Subtype': '/Image',\n",
       "    '/Width': 143,\n",
       "    '/Height': 150,\n",
       "    '/ColorSpace': '/DeviceRGB',\n",
       "    '/SMask': {'/Type': '/XObject',\n",
       "     '/Subtype': '/Image',\n",
       "     '/Width': 143,\n",
       "     '/Height': 150,\n",
       "     '/ColorSpace': '/DeviceGray',\n",
       "     '/BitsPerComponent': 8,\n",
       "     '/Filter': '/FlateDecode'},\n",
       "    '/BitsPerComponent': 8,\n",
       "    '/Filter': '/FlateDecode'}},\n",
       "  '/Font': {'/F8': {'/Type': '/Font',\n",
       "    '/Subtype': '/Type0',\n",
       "    '/BaseFont': '/AAAAAA+TTNormsPro-Bold',\n",
       "    '/Encoding': '/Identity-H',\n",
       "    '/DescendantFonts': [IndirectObject(19, 0, 1801647300112)],\n",
       "    '/ToUnicode': {'/Filter': '/FlateDecode'}},\n",
       "   '/F9': {'/Type': '/Font',\n",
       "    '/Subtype': '/Type0',\n",
       "    '/BaseFont': '/BAAAAA+Archive-Regular',\n",
       "    '/Encoding': '/Identity-H',\n",
       "    '/DescendantFonts': [IndirectObject(21, 0, 1801647300112)],\n",
       "    '/ToUnicode': {'/Filter': '/FlateDecode'}},\n",
       "   '/F10': {'/Type': '/Font',\n",
       "    '/Subtype': '/Type0',\n",
       "    '/BaseFont': '/CAAAAA+Aileron-Bold',\n",
       "    '/Encoding': '/Identity-H',\n",
       "    '/DescendantFonts': [IndirectObject(23, 0, 1801647300112)],\n",
       "    '/ToUnicode': {'/Filter': '/FlateDecode'}},\n",
       "   '/F11': {'/Type': '/Font',\n",
       "    '/Subtype': '/Type0',\n",
       "    '/BaseFont': '/DAAAAA+Aileron-Black',\n",
       "    '/Encoding': '/Identity-H',\n",
       "    '/DescendantFonts': [IndirectObject(25, 0, 1801647300112)],\n",
       "    '/ToUnicode': {'/Filter': '/FlateDecode'}}}},\n",
       " '/MediaBox': [0, 7.8299813, 595.5, 850.07996],\n",
       " '/Contents': {'/Filter': '/FlateDecode'},\n",
       " '/StructParents': 0,\n",
       " '/Parent': {'/Type': '/Pages',\n",
       "  '/Kids': [IndirectObject(5, 0, 1801647300112)],\n",
       "  '/Count': 1},\n",
       " '/Tabs': '/S',\n",
       " '/BleedBox': [0, 7.8299813, 595.5, 850.07996],\n",
       " '/TrimBox': [0, 7.8299813, 595.5, 850.07996],\n",
       " '/CropBox': [0, 7.8299813, 595.5, 850.07996],\n",
       " '/Rotate': 0,\n",
       " '/Annots': []}"
      ]
     },
     "execution_count": 29,
     "metadata": {},
     "output_type": "execute_result"
    }
   ],
   "source": [
    "page"
   ]
  },
  {
   "cell_type": "code",
   "execution_count": 30,
   "id": "b36802f4",
   "metadata": {},
   "outputs": [],
   "source": [
    "text = page.extract_text()"
   ]
  },
  {
   "cell_type": "code",
   "execution_count": 32,
   "id": "f0de3009",
   "metadata": {
    "scrolled": true
   },
   "outputs": [
    {
     "name": "stdout",
     "output_type": "stream",
     "text": [
      "YANTRAVEDA\n",
      "INDUSTRY TRAINING AND PLACEMENT\n",
      "CONTACT US :-8275166660 |9823990035 Previous Students Placed in Top MNC's like TCS, Capgemini,\n",
      "Infosys, Accenture, Wipro, Mindtree  etc .\n",
      "Industrial Experts Trainer\n",
      "Regular Mock Interviews & Resume Preparation\n",
      "Motivating & Inspiring Staff\n",
      "Personal Assistance YOU DREAM IT... WE MAKE IT...!\n",
      "B U I L D  Y O U R   C A R E E R   I N     D A T A  S C I E N C E\n",
      "NEW BATCH STARTING FROM 23 /09/2022\n",
      "Office at warje ,Dange chowk & Finolex chowk Pune. "
     ]
    }
   ],
   "source": [
    "print(text, end= \" \")"
   ]
  },
  {
   "cell_type": "markdown",
   "id": "0c000abe",
   "metadata": {},
   "source": [
    "---\n",
    "---\n",
    "---"
   ]
  },
  {
   "cell_type": "markdown",
   "id": "7ddb1a1a",
   "metadata": {},
   "source": [
    "## Method_2"
   ]
  },
  {
   "cell_type": "markdown",
   "id": "f000407b",
   "metadata": {},
   "source": [
    "## Install dependencies"
   ]
  },
  {
   "cell_type": "code",
   "execution_count": 13,
   "id": "68e67d0c",
   "metadata": {},
   "outputs": [],
   "source": [
    "import PyPDF2 as pdf"
   ]
  },
  {
   "cell_type": "markdown",
   "id": "f972eece",
   "metadata": {},
   "source": [
    "## Open a File"
   ]
  },
  {
   "cell_type": "code",
   "execution_count": 14,
   "id": "25359723",
   "metadata": {},
   "outputs": [],
   "source": [
    "file  = open('richardsan_briana.pdf','rb')"
   ]
  },
  {
   "cell_type": "code",
   "execution_count": 15,
   "id": "f42d51b8",
   "metadata": {},
   "outputs": [
    {
     "data": {
      "text/plain": [
       "<_io.BufferedReader name='richardsan_briana.pdf'>"
      ]
     },
     "execution_count": 15,
     "metadata": {},
     "output_type": "execute_result"
    }
   ],
   "source": [
    "file"
   ]
  },
  {
   "cell_type": "code",
   "execution_count": 16,
   "id": "772feda2",
   "metadata": {},
   "outputs": [],
   "source": [
    "pdf_reader = pdf.PdfFileReader(file)"
   ]
  },
  {
   "cell_type": "code",
   "execution_count": 17,
   "id": "846bdbc9",
   "metadata": {},
   "outputs": [
    {
     "data": {
      "text/plain": [
       "<PyPDF2._reader.PdfFileReader at 0x1a37a8c19c0>"
      ]
     },
     "execution_count": 17,
     "metadata": {},
     "output_type": "execute_result"
    }
   ],
   "source": [
    "pdf_reader"
   ]
  },
  {
   "cell_type": "code",
   "execution_count": 18,
   "id": "fd6ec857",
   "metadata": {},
   "outputs": [
    {
     "name": "stdout",
     "output_type": "stream",
     "text": [
      "Help on PdfFileReader in module PyPDF2._reader object:\n",
      "\n",
      "class PdfFileReader(PdfReader)\n",
      " |  PdfFileReader(*args: Any, **kwargs: Any) -> None\n",
      " |  \n",
      " |  Method resolution order:\n",
      " |      PdfFileReader\n",
      " |      PdfReader\n",
      " |      builtins.object\n",
      " |  \n",
      " |  Methods defined here:\n",
      " |  \n",
      " |  __init__(self, *args: Any, **kwargs: Any) -> None\n",
      " |      Initialize self.  See help(type(self)) for accurate signature.\n",
      " |  \n",
      " |  ----------------------------------------------------------------------\n",
      " |  Methods inherited from PdfReader:\n",
      " |  \n",
      " |  cacheGetIndirectObject(self, generation: int, idnum: int) -> Optional[PyPDF2.generic._base.PdfObject]\n",
      " |      .. deprecated:: 1.28.0\n",
      " |      \n",
      " |          Use :meth:`cache_get_indirect_object` instead.\n",
      " |  \n",
      " |  cacheIndirectObject(self, generation: int, idnum: int, obj: Optional[PyPDF2.generic._base.PdfObject]) -> Optional[PyPDF2.generic._base.PdfObject]\n",
      " |      .. deprecated:: 1.28.0\n",
      " |      \n",
      " |          Use :meth:`cache_indirect_object` instead.\n",
      " |  \n",
      " |  cache_get_indirect_object(self, generation: int, idnum: int) -> Optional[PyPDF2.generic._base.PdfObject]\n",
      " |  \n",
      " |  cache_indirect_object(self, generation: int, idnum: int, obj: Optional[PyPDF2.generic._base.PdfObject]) -> Optional[PyPDF2.generic._base.PdfObject]\n",
      " |  \n",
      " |  decode_permissions(self, permissions_code: int) -> Dict[str, bool]\n",
      " |  \n",
      " |  decrypt(self, password: Union[str, bytes]) -> PyPDF2._encryption.PasswordType\n",
      " |      When using an encrypted / secured PDF file with the PDF Standard\n",
      " |      encryption handler, this function will allow the file to be decrypted.\n",
      " |      It checks the given password against the document's user password and\n",
      " |      owner password, and then stores the resulting decryption key if either\n",
      " |      password is correct.\n",
      " |      \n",
      " |      It does not matter which password was matched.  Both passwords provide\n",
      " |      the correct decryption key that will allow the document to be used with\n",
      " |      this library.\n",
      " |      \n",
      " |      :param str password: The password to match.\n",
      " |      :return: `PasswordType`.\n",
      " |  \n",
      " |  getDestinationPageNumber(self, destination: PyPDF2.generic._data_structures.Destination) -> int\n",
      " |      .. deprecated:: 1.28.0\n",
      " |      \n",
      " |          Use :meth:`get_destination_page_number` instead.\n",
      " |  \n",
      " |  getDocumentInfo(self) -> Optional[PyPDF2._reader.DocumentInformation]\n",
      " |      .. deprecated:: 1.28.0\n",
      " |      \n",
      " |          Use the attribute :py:attr:`metadata` instead.\n",
      " |  \n",
      " |  getFields(self, tree: Optional[PyPDF2.generic._data_structures.TreeObject] = None, retval: Optional[Dict[Any, Any]] = None, fileobj: Optional[Any] = None) -> Optional[Dict[str, Any]]\n",
      " |      .. deprecated:: 1.28.0\n",
      " |      \n",
      " |          Use :meth:`get_fields` instead.\n",
      " |  \n",
      " |  getFormTextFields(self) -> Dict[str, Any]\n",
      " |      .. deprecated:: 1.28.0\n",
      " |      \n",
      " |          Use :meth:`get_form_text_fields` instead.\n",
      " |  \n",
      " |  getIsEncrypted(self) -> bool\n",
      " |      .. deprecated:: 1.28.0\n",
      " |      \n",
      " |          Use :py:attr:`is_encrypted` instead.\n",
      " |  \n",
      " |  getNamedDestinations(self, tree: Optional[PyPDF2.generic._data_structures.TreeObject] = None, retval: Optional[Any] = None) -> Dict[str, Any]\n",
      " |      .. deprecated:: 1.28.0\n",
      " |      \n",
      " |          Use :py:attr:`named_destinations` instead.\n",
      " |  \n",
      " |  getNumPages(self) -> int\n",
      " |      .. deprecated:: 1.28.0\n",
      " |      \n",
      " |          Use :code:`len(reader.pages)` instead.\n",
      " |  \n",
      " |  getObject(self, indirectReference: PyPDF2.generic._base.IndirectObject) -> Optional[PyPDF2.generic._base.PdfObject]\n",
      " |      .. deprecated:: 1.28.0\n",
      " |      \n",
      " |          Use :meth:`get_object` instead.\n",
      " |  \n",
      " |  getOutlines(self, node: Optional[PyPDF2.generic._data_structures.DictionaryObject] = None, outline: Optional[Any] = None) -> List[Union[PyPDF2.generic._data_structures.Destination, List[Union[PyPDF2.generic._data_structures.Destination, List[PyPDF2.generic._data_structures.Destination]]]]]\n",
      " |      .. deprecated:: 1.28.0\n",
      " |      \n",
      " |          Use :py:attr:`outline` instead.\n",
      " |  \n",
      " |  getPage(self, pageNumber: int) -> PyPDF2._page.PageObject\n",
      " |      .. deprecated:: 1.28.0\n",
      " |      \n",
      " |          Use :code:`reader.pages[pageNumber]` instead.\n",
      " |  \n",
      " |  getPageLayout(self) -> Optional[str]\n",
      " |      .. deprecated:: 1.28.0\n",
      " |      \n",
      " |          Use :py:attr:`page_layout` instead.\n",
      " |  \n",
      " |  getPageMode(self) -> Optional[Literal['/UseNone', '/UseOutlines', '/UseThumbs', '/FullScreen', '/UseOC', '/UseAttachments']]\n",
      " |      .. deprecated:: 1.28.0\n",
      " |      \n",
      " |          Use :py:attr:`page_mode` instead.\n",
      " |  \n",
      " |  getPageNumber(self, page: PyPDF2._page.PageObject) -> int\n",
      " |      .. deprecated:: 1.28.0\n",
      " |      \n",
      " |          Use :meth:`get_page_number` instead.\n",
      " |  \n",
      " |  getXmpMetadata(self) -> Optional[PyPDF2.xmp.XmpInformation]\n",
      " |      .. deprecated:: 1.28.0\n",
      " |      \n",
      " |          Use the attribute :py:attr:`xmp_metadata` instead.\n",
      " |  \n",
      " |  get_destination_page_number(self, destination: PyPDF2.generic._data_structures.Destination) -> int\n",
      " |      Retrieve page number of a given Destination object.\n",
      " |      \n",
      " |      :param Destination destination: The destination to get page number.\n",
      " |      :return: the page number or -1 if page not found\n",
      " |  \n",
      " |  get_fields(self, tree: Optional[PyPDF2.generic._data_structures.TreeObject] = None, retval: Optional[Dict[Any, Any]] = None, fileobj: Optional[Any] = None) -> Optional[Dict[str, Any]]\n",
      " |      Extract field data if this PDF contains interactive form fields.\n",
      " |      \n",
      " |      The *tree* and *retval* parameters are for recursive use.\n",
      " |      \n",
      " |      :param fileobj: A file object (usually a text file) to write\n",
      " |          a report to on all interactive form fields found.\n",
      " |      :return: A dictionary where each key is a field name, and each\n",
      " |          value is a :class:`Field<PyPDF2.generic.Field>` object. By\n",
      " |          default, the mapping name is used for keys.\n",
      " |          ``None`` if form data could not be located.\n",
      " |  \n",
      " |  get_form_text_fields(self) -> Dict[str, Any]\n",
      " |      Retrieve form fields from the document with textual data.\n",
      " |      \n",
      " |      The key is the name of the form field, the value is the content of the\n",
      " |      field.\n",
      " |      \n",
      " |      If the document contains multiple form fields with the same name, the\n",
      " |      second and following will get the suffix _2, _3, ...\n",
      " |  \n",
      " |  get_object(self, indirect_reference: PyPDF2.generic._base.IndirectObject) -> Optional[PyPDF2.generic._base.PdfObject]\n",
      " |  \n",
      " |  get_page_number(self, page: PyPDF2._page.PageObject) -> int\n",
      " |      Retrieve page number of a given PageObject\n",
      " |      \n",
      " |      :param PageObject page: The page to get page number. Should be\n",
      " |          an instance of :class:`PageObject<PyPDF2._page.PageObject>`\n",
      " |      :return: the page number or -1 if page not found\n",
      " |  \n",
      " |  read(self, stream: Union[_io.BytesIO, _io.BufferedReader, _io.BufferedWriter, _io.FileIO]) -> None\n",
      " |  \n",
      " |  readNextEndLine(self, stream: Union[_io.BytesIO, _io.BufferedReader, _io.BufferedWriter, _io.FileIO], limit_offset: int = 0) -> bytes\n",
      " |      .. deprecated:: 1.28.0\n",
      " |  \n",
      " |  readObjectHeader(self, stream: Union[_io.BytesIO, _io.BufferedReader, _io.BufferedWriter, _io.FileIO]) -> Tuple[int, int]\n",
      " |      .. deprecated:: 1.28.0\n",
      " |      \n",
      " |          Use :meth:`read_object_header` instead.\n",
      " |  \n",
      " |  read_next_end_line(self, stream: Union[_io.BytesIO, _io.BufferedReader, _io.BufferedWriter, _io.FileIO], limit_offset: int = 0) -> bytes\n",
      " |      .. deprecated:: 2.1.0\n",
      " |  \n",
      " |  read_object_header(self, stream: Union[_io.BytesIO, _io.BufferedReader, _io.BufferedWriter, _io.FileIO]) -> Tuple[int, int]\n",
      " |  \n",
      " |  ----------------------------------------------------------------------\n",
      " |  Readonly properties inherited from PdfReader:\n",
      " |  \n",
      " |  documentInfo\n",
      " |      .. deprecated:: 1.28.0\n",
      " |      \n",
      " |          Use the attribute :py:attr:`metadata` instead.\n",
      " |  \n",
      " |  isEncrypted\n",
      " |      .. deprecated:: 1.28.0\n",
      " |      \n",
      " |          Use :py:attr:`is_encrypted` instead.\n",
      " |  \n",
      " |  is_encrypted\n",
      " |      Read-only boolean property showing whether this PDF file is encrypted.\n",
      " |      Note that this property, if true, will remain true even after the\n",
      " |      :meth:`decrypt()<PyPDF2.PdfReader.decrypt>` method is called.\n",
      " |  \n",
      " |  metadata\n",
      " |      Retrieve the PDF file's document information dictionary, if it exists.\n",
      " |      Note that some PDF files use metadata streams instead of docinfo\n",
      " |      dictionaries, and these metadata streams will not be accessed by this\n",
      " |      function.\n",
      " |      \n",
      " |      :return: the document information of this PDF file\n",
      " |  \n",
      " |  namedDestinations\n",
      " |      .. deprecated:: 1.28.0\n",
      " |      \n",
      " |          Use :py:attr:`named_destinations` instead.\n",
      " |  \n",
      " |  named_destinations\n",
      " |      A read-only dictionary which maps names to\n",
      " |      :class:`Destinations<PyPDF2.generic.Destination>`\n",
      " |  \n",
      " |  numPages\n",
      " |      .. deprecated:: 1.28.0\n",
      " |      \n",
      " |          Use :code:`len(reader.pages)` instead.\n",
      " |  \n",
      " |  outline\n",
      " |      Read-only property for the outline (i.e., a collection of 'outline items'\n",
      " |      which are also known as 'bookmarks') present in the document.\n",
      " |      \n",
      " |      :return: a nested list of :class:`Destinations<PyPDF2.generic.Destination>`.\n",
      " |  \n",
      " |  outlines\n",
      " |      .. deprecated:: 2.9.0\n",
      " |      \n",
      " |          Use :py:attr:`outline` instead.\n",
      " |  \n",
      " |  pageLayout\n",
      " |      .. deprecated:: 1.28.0\n",
      " |      \n",
      " |          Use :py:attr:`page_layout` instead.\n",
      " |  \n",
      " |  pageMode\n",
      " |      .. deprecated:: 1.28.0\n",
      " |      \n",
      " |          Use :py:attr:`page_mode` instead.\n",
      " |  \n",
      " |  page_layout\n",
      " |      Get the page layout.\n",
      " |      \n",
      " |      :return: Page layout currently being used.\n",
      " |      \n",
      " |      .. list-table:: Valid ``layout`` values\n",
      " |         :widths: 50 200\n",
      " |      \n",
      " |         * - /NoLayout\n",
      " |           - Layout explicitly not specified\n",
      " |         * - /SinglePage\n",
      " |           - Show one page at a time\n",
      " |         * - /OneColumn\n",
      " |           - Show one column at a time\n",
      " |         * - /TwoColumnLeft\n",
      " |           - Show pages in two columns, odd-numbered pages on the left\n",
      " |         * - /TwoColumnRight\n",
      " |           - Show pages in two columns, odd-numbered pages on the right\n",
      " |         * - /TwoPageLeft\n",
      " |           - Show two pages at a time, odd-numbered pages on the left\n",
      " |         * - /TwoPageRight\n",
      " |           - Show two pages at a time, odd-numbered pages on the right\n",
      " |  \n",
      " |  page_mode\n",
      " |      Get the page mode.\n",
      " |      \n",
      " |      :return: Page mode currently being used.\n",
      " |      \n",
      " |      .. list-table:: Valid ``mode`` values\n",
      " |         :widths: 50 200\n",
      " |      \n",
      " |         * - /UseNone\n",
      " |           - Do not show outline or thumbnails panels\n",
      " |         * - /UseOutlines\n",
      " |           - Show outline (aka bookmarks) panel\n",
      " |         * - /UseThumbs\n",
      " |           - Show page thumbnails panel\n",
      " |         * - /FullScreen\n",
      " |           - Fullscreen view\n",
      " |         * - /UseOC\n",
      " |           - Show Optional Content Group (OCG) panel\n",
      " |         * - /UseAttachments\n",
      " |           - Show attachments panel\n",
      " |  \n",
      " |  pages\n",
      " |      Read-only property that emulates a list of :py:class:`Page<PyPDF2._page.Page>` objects.\n",
      " |  \n",
      " |  pdf_header\n",
      " |  \n",
      " |  xfa\n",
      " |  \n",
      " |  xmpMetadata\n",
      " |      .. deprecated:: 1.28.0\n",
      " |      \n",
      " |          Use the attribute :py:attr:`xmp_metadata` instead.\n",
      " |  \n",
      " |  xmp_metadata\n",
      " |      XMP (Extensible Metadata Platform) data\n",
      " |      \n",
      " |      :return: a :class:`XmpInformation<xmp.XmpInformation>`\n",
      " |          instance that can be used to access XMP metadata from the document.\n",
      " |          or ``None`` if no metadata was found on the document root.\n",
      " |  \n",
      " |  ----------------------------------------------------------------------\n",
      " |  Data descriptors inherited from PdfReader:\n",
      " |  \n",
      " |  __dict__\n",
      " |      dictionary for instance variables (if defined)\n",
      " |  \n",
      " |  __weakref__\n",
      " |      list of weak references to the object (if defined)\n",
      "\n"
     ]
    }
   ],
   "source": [
    "help(pdf_reader)"
   ]
  },
  {
   "cell_type": "code",
   "execution_count": 19,
   "id": "cfa5028b",
   "metadata": {},
   "outputs": [
    {
     "data": {
      "text/plain": [
       "False"
      ]
     },
     "execution_count": 19,
     "metadata": {},
     "output_type": "execute_result"
    }
   ],
   "source": [
    "#here we cheeckd that should our pdf file contained password or not?\n",
    "#imp\n",
    "pdf_reader.getIsEncrypted()"
   ]
  },
  {
   "cell_type": "code",
   "execution_count": 20,
   "id": "ddd1b90e",
   "metadata": {},
   "outputs": [
    {
     "data": {
      "text/plain": [
       "12"
      ]
     },
     "execution_count": 20,
     "metadata": {},
     "output_type": "execute_result"
    }
   ],
   "source": [
    "pdf_reader.getNumPages()"
   ]
  },
  {
   "cell_type": "code",
   "execution_count": 21,
   "id": "ce1af6c5",
   "metadata": {},
   "outputs": [],
   "source": [
    "page1 = pdf_reader.getPage(0)"
   ]
  },
  {
   "cell_type": "code",
   "execution_count": 22,
   "id": "d1c23d67",
   "metadata": {},
   "outputs": [
    {
     "data": {
      "text/plain": [
       "{'/Type': '/Page',\n",
       " '/MediaBox': [0, 0, 788.04, 614.52],\n",
       " '/Parent': {'/Type': '/Pages',\n",
       "  '/Count': 12,\n",
       "  '/Kids': [IndirectObject(4, 0, 1801647299008),\n",
       "   IndirectObject(9, 0, 1801647299008),\n",
       "   IndirectObject(14, 0, 1801647299008),\n",
       "   IndirectObject(19, 0, 1801647299008),\n",
       "   IndirectObject(24, 0, 1801647299008),\n",
       "   IndirectObject(29, 0, 1801647299008),\n",
       "   IndirectObject(34, 0, 1801647299008),\n",
       "   IndirectObject(39, 0, 1801647299008),\n",
       "   IndirectObject(44, 0, 1801647299008),\n",
       "   IndirectObject(49, 0, 1801647299008),\n",
       "   IndirectObject(54, 0, 1801647299008),\n",
       "   IndirectObject(59, 0, 1801647299008)]},\n",
       " '/Contents': [IndirectObject(5, 0, 1801647299008)],\n",
       " '/Resources': {'/XObject': {'/IOP1': {'/Type': '/Xobject',\n",
       "    '/Subtype': '/Image',\n",
       "    '/Name': '/IOP1',\n",
       "    '/Width': 2189,\n",
       "    '/Height': 1707,\n",
       "    '/BitsPerComponent': 1,\n",
       "    '/ColorSpace': '/DeviceGray',\n",
       "    '/Filter': '/CCITTFaxDecode',\n",
       "    '/DecodeParms': {'/K': -1, '/Columns': 2189, '/Rows': 1707}}},\n",
       "  '/ProcSet': ['/PDF', '/ImageB', '/Text']}}"
      ]
     },
     "execution_count": 22,
     "metadata": {},
     "output_type": "execute_result"
    }
   ],
   "source": [
    "page1"
   ]
  },
  {
   "cell_type": "code",
   "execution_count": 23,
   "id": "766b5e66",
   "metadata": {},
   "outputs": [
    {
     "data": {
      "text/plain": [
       "''"
      ]
     },
     "execution_count": 23,
     "metadata": {},
     "output_type": "execute_result"
    }
   ],
   "source": [
    "page1.extractText()"
   ]
  },
  {
   "cell_type": "code",
   "execution_count": null,
   "id": "a4a2d223",
   "metadata": {},
   "outputs": [],
   "source": []
  }
 ],
 "metadata": {
  "kernelspec": {
   "display_name": "Python 3 (ipykernel)",
   "language": "python",
   "name": "python3"
  },
  "language_info": {
   "codemirror_mode": {
    "name": "ipython",
    "version": 3
   },
   "file_extension": ".py",
   "mimetype": "text/x-python",
   "name": "python",
   "nbconvert_exporter": "python",
   "pygments_lexer": "ipython3",
   "version": "3.10.4"
  }
 },
 "nbformat": 4,
 "nbformat_minor": 5
}
